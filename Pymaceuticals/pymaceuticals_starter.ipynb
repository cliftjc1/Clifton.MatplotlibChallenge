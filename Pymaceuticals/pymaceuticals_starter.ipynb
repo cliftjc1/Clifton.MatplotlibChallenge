{
 "cells": [
  {
   "cell_type": "markdown",
   "metadata": {},
   "source": [
    "## Observations and Insights"
   ]
  },
  {
   "cell_type": "markdown",
   "metadata": {},
   "source": []
  },
  {
   "cell_type": "markdown",
   "metadata": {},
   "source": [
    "## Dependencies and starter code"
   ]
  },
  {
   "cell_type": "code",
   "execution_count": 31,
   "metadata": {},
   "outputs": [
    {
     "data": {
      "text/html": [
       "<div>\n",
       "<style scoped>\n",
       "    .dataframe tbody tr th:only-of-type {\n",
       "        vertical-align: middle;\n",
       "    }\n",
       "\n",
       "    .dataframe tbody tr th {\n",
       "        vertical-align: top;\n",
       "    }\n",
       "\n",
       "    .dataframe thead th {\n",
       "        text-align: right;\n",
       "    }\n",
       "</style>\n",
       "<table border=\"1\" class=\"dataframe\">\n",
       "  <thead>\n",
       "    <tr style=\"text-align: right;\">\n",
       "      <th></th>\n",
       "      <th>Mouse ID</th>\n",
       "      <th>Drug Regimen</th>\n",
       "      <th>Sex</th>\n",
       "      <th>Age_months</th>\n",
       "      <th>Weight (g)</th>\n",
       "      <th>Timepoint</th>\n",
       "      <th>Tumor Volume (mm3)</th>\n",
       "      <th>Metastatic Sites</th>\n",
       "    </tr>\n",
       "  </thead>\n",
       "  <tbody>\n",
       "    <tr>\n",
       "      <td>0</td>\n",
       "      <td>k403</td>\n",
       "      <td>Ramicane</td>\n",
       "      <td>Male</td>\n",
       "      <td>21</td>\n",
       "      <td>16</td>\n",
       "      <td>0</td>\n",
       "      <td>45.000000</td>\n",
       "      <td>0</td>\n",
       "    </tr>\n",
       "    <tr>\n",
       "      <td>1</td>\n",
       "      <td>k403</td>\n",
       "      <td>Ramicane</td>\n",
       "      <td>Male</td>\n",
       "      <td>21</td>\n",
       "      <td>16</td>\n",
       "      <td>5</td>\n",
       "      <td>38.825898</td>\n",
       "      <td>0</td>\n",
       "    </tr>\n",
       "    <tr>\n",
       "      <td>2</td>\n",
       "      <td>k403</td>\n",
       "      <td>Ramicane</td>\n",
       "      <td>Male</td>\n",
       "      <td>21</td>\n",
       "      <td>16</td>\n",
       "      <td>10</td>\n",
       "      <td>35.014271</td>\n",
       "      <td>1</td>\n",
       "    </tr>\n",
       "    <tr>\n",
       "      <td>3</td>\n",
       "      <td>k403</td>\n",
       "      <td>Ramicane</td>\n",
       "      <td>Male</td>\n",
       "      <td>21</td>\n",
       "      <td>16</td>\n",
       "      <td>15</td>\n",
       "      <td>34.223992</td>\n",
       "      <td>1</td>\n",
       "    </tr>\n",
       "    <tr>\n",
       "      <td>4</td>\n",
       "      <td>k403</td>\n",
       "      <td>Ramicane</td>\n",
       "      <td>Male</td>\n",
       "      <td>21</td>\n",
       "      <td>16</td>\n",
       "      <td>20</td>\n",
       "      <td>32.997729</td>\n",
       "      <td>1</td>\n",
       "    </tr>\n",
       "    <tr>\n",
       "      <td>5</td>\n",
       "      <td>k403</td>\n",
       "      <td>Ramicane</td>\n",
       "      <td>Male</td>\n",
       "      <td>21</td>\n",
       "      <td>16</td>\n",
       "      <td>25</td>\n",
       "      <td>33.464577</td>\n",
       "      <td>1</td>\n",
       "    </tr>\n",
       "    <tr>\n",
       "      <td>6</td>\n",
       "      <td>k403</td>\n",
       "      <td>Ramicane</td>\n",
       "      <td>Male</td>\n",
       "      <td>21</td>\n",
       "      <td>16</td>\n",
       "      <td>30</td>\n",
       "      <td>31.099498</td>\n",
       "      <td>1</td>\n",
       "    </tr>\n",
       "    <tr>\n",
       "      <td>7</td>\n",
       "      <td>k403</td>\n",
       "      <td>Ramicane</td>\n",
       "      <td>Male</td>\n",
       "      <td>21</td>\n",
       "      <td>16</td>\n",
       "      <td>35</td>\n",
       "      <td>26.546993</td>\n",
       "      <td>1</td>\n",
       "    </tr>\n",
       "    <tr>\n",
       "      <td>8</td>\n",
       "      <td>k403</td>\n",
       "      <td>Ramicane</td>\n",
       "      <td>Male</td>\n",
       "      <td>21</td>\n",
       "      <td>16</td>\n",
       "      <td>40</td>\n",
       "      <td>24.365505</td>\n",
       "      <td>1</td>\n",
       "    </tr>\n",
       "    <tr>\n",
       "      <td>9</td>\n",
       "      <td>k403</td>\n",
       "      <td>Ramicane</td>\n",
       "      <td>Male</td>\n",
       "      <td>21</td>\n",
       "      <td>16</td>\n",
       "      <td>45</td>\n",
       "      <td>22.050126</td>\n",
       "      <td>1</td>\n",
       "    </tr>\n",
       "    <tr>\n",
       "      <td>10</td>\n",
       "      <td>s185</td>\n",
       "      <td>Capomulin</td>\n",
       "      <td>Female</td>\n",
       "      <td>3</td>\n",
       "      <td>17</td>\n",
       "      <td>0</td>\n",
       "      <td>45.000000</td>\n",
       "      <td>0</td>\n",
       "    </tr>\n",
       "    <tr>\n",
       "      <td>11</td>\n",
       "      <td>s185</td>\n",
       "      <td>Capomulin</td>\n",
       "      <td>Female</td>\n",
       "      <td>3</td>\n",
       "      <td>17</td>\n",
       "      <td>5</td>\n",
       "      <td>43.878496</td>\n",
       "      <td>0</td>\n",
       "    </tr>\n",
       "    <tr>\n",
       "      <td>12</td>\n",
       "      <td>s185</td>\n",
       "      <td>Capomulin</td>\n",
       "      <td>Female</td>\n",
       "      <td>3</td>\n",
       "      <td>17</td>\n",
       "      <td>10</td>\n",
       "      <td>37.614948</td>\n",
       "      <td>0</td>\n",
       "    </tr>\n",
       "    <tr>\n",
       "      <td>13</td>\n",
       "      <td>s185</td>\n",
       "      <td>Capomulin</td>\n",
       "      <td>Female</td>\n",
       "      <td>3</td>\n",
       "      <td>17</td>\n",
       "      <td>15</td>\n",
       "      <td>38.177232</td>\n",
       "      <td>0</td>\n",
       "    </tr>\n",
       "    <tr>\n",
       "      <td>14</td>\n",
       "      <td>s185</td>\n",
       "      <td>Capomulin</td>\n",
       "      <td>Female</td>\n",
       "      <td>3</td>\n",
       "      <td>17</td>\n",
       "      <td>20</td>\n",
       "      <td>36.866876</td>\n",
       "      <td>0</td>\n",
       "    </tr>\n",
       "  </tbody>\n",
       "</table>\n",
       "</div>"
      ],
      "text/plain": [
       "   Mouse ID Drug Regimen     Sex  Age_months  Weight (g)  Timepoint  \\\n",
       "0      k403     Ramicane    Male          21          16          0   \n",
       "1      k403     Ramicane    Male          21          16          5   \n",
       "2      k403     Ramicane    Male          21          16         10   \n",
       "3      k403     Ramicane    Male          21          16         15   \n",
       "4      k403     Ramicane    Male          21          16         20   \n",
       "5      k403     Ramicane    Male          21          16         25   \n",
       "6      k403     Ramicane    Male          21          16         30   \n",
       "7      k403     Ramicane    Male          21          16         35   \n",
       "8      k403     Ramicane    Male          21          16         40   \n",
       "9      k403     Ramicane    Male          21          16         45   \n",
       "10     s185    Capomulin  Female           3          17          0   \n",
       "11     s185    Capomulin  Female           3          17          5   \n",
       "12     s185    Capomulin  Female           3          17         10   \n",
       "13     s185    Capomulin  Female           3          17         15   \n",
       "14     s185    Capomulin  Female           3          17         20   \n",
       "\n",
       "    Tumor Volume (mm3)  Metastatic Sites  \n",
       "0            45.000000                 0  \n",
       "1            38.825898                 0  \n",
       "2            35.014271                 1  \n",
       "3            34.223992                 1  \n",
       "4            32.997729                 1  \n",
       "5            33.464577                 1  \n",
       "6            31.099498                 1  \n",
       "7            26.546993                 1  \n",
       "8            24.365505                 1  \n",
       "9            22.050126                 1  \n",
       "10           45.000000                 0  \n",
       "11           43.878496                 0  \n",
       "12           37.614948                 0  \n",
       "13           38.177232                 0  \n",
       "14           36.866876                 0  "
      ]
     },
     "execution_count": 31,
     "metadata": {},
     "output_type": "execute_result"
    }
   ],
   "source": [
    "# Dependencies and Setup\n",
    "import matplotlib.pyplot as plt\n",
    "import pandas as pd\n",
    "import scipy.stats as st\n",
    "import numpy as np\n",
    "\n",
    "# Study data files\n",
    "mouse_metadata = \"data/Mouse_metadata.csv\"\n",
    "study_results = \"data/Study_results.csv\"\n",
    "\n",
    "# Read the mouse data and the study results\n",
    "mouse_metadata = pd.read_csv(mouse_metadata)\n",
    "study_results = pd.read_csv(study_results)\n",
    "\n",
    "# Combine the data into a single dataset\n",
    "df = pd.merge(mouse_metadata,study_results,on='Mouse ID')\n",
    "df.head(15)"
   ]
  },
  {
   "cell_type": "markdown",
   "metadata": {},
   "source": [
    "## Summary statistics"
   ]
  },
  {
   "cell_type": "code",
   "execution_count": 32,
   "metadata": {},
   "outputs": [
    {
     "data": {
      "text/html": [
       "<div>\n",
       "<style scoped>\n",
       "    .dataframe tbody tr th:only-of-type {\n",
       "        vertical-align: middle;\n",
       "    }\n",
       "\n",
       "    .dataframe tbody tr th {\n",
       "        vertical-align: top;\n",
       "    }\n",
       "\n",
       "    .dataframe thead th {\n",
       "        text-align: right;\n",
       "    }\n",
       "</style>\n",
       "<table border=\"1\" class=\"dataframe\">\n",
       "  <thead>\n",
       "    <tr style=\"text-align: right;\">\n",
       "      <th></th>\n",
       "      <th>Tumor Volume (mm3)</th>\n",
       "      <th>count</th>\n",
       "      <th>mean</th>\n",
       "      <th>std</th>\n",
       "      <th>min</th>\n",
       "      <th>25%</th>\n",
       "      <th>50%</th>\n",
       "      <th>75%</th>\n",
       "      <th>max</th>\n",
       "    </tr>\n",
       "    <tr>\n",
       "      <th>Drug Regimen</th>\n",
       "      <th></th>\n",
       "      <th></th>\n",
       "      <th></th>\n",
       "      <th></th>\n",
       "      <th></th>\n",
       "      <th></th>\n",
       "      <th></th>\n",
       "      <th></th>\n",
       "      <th></th>\n",
       "    </tr>\n",
       "  </thead>\n",
       "  <tbody>\n",
       "    <tr>\n",
       "      <td>Capomulin</td>\n",
       "      <td>0.329346</td>\n",
       "      <td>230.0</td>\n",
       "      <td>40.675741</td>\n",
       "      <td>4.994774</td>\n",
       "      <td>23.343598</td>\n",
       "      <td>37.685933</td>\n",
       "      <td>41.557809</td>\n",
       "      <td>45.000000</td>\n",
       "      <td>48.158209</td>\n",
       "    </tr>\n",
       "    <tr>\n",
       "      <td>Ceftamin</td>\n",
       "      <td>0.469821</td>\n",
       "      <td>178.0</td>\n",
       "      <td>52.591172</td>\n",
       "      <td>6.268188</td>\n",
       "      <td>45.000000</td>\n",
       "      <td>47.208427</td>\n",
       "      <td>51.776157</td>\n",
       "      <td>56.801438</td>\n",
       "      <td>68.923185</td>\n",
       "    </tr>\n",
       "    <tr>\n",
       "      <td>Infubinol</td>\n",
       "      <td>0.492236</td>\n",
       "      <td>178.0</td>\n",
       "      <td>52.884795</td>\n",
       "      <td>6.567243</td>\n",
       "      <td>36.321346</td>\n",
       "      <td>47.312353</td>\n",
       "      <td>51.820584</td>\n",
       "      <td>57.314444</td>\n",
       "      <td>72.226731</td>\n",
       "    </tr>\n",
       "    <tr>\n",
       "      <td>Ketapril</td>\n",
       "      <td>0.603860</td>\n",
       "      <td>188.0</td>\n",
       "      <td>55.235638</td>\n",
       "      <td>8.279709</td>\n",
       "      <td>45.000000</td>\n",
       "      <td>48.232987</td>\n",
       "      <td>53.698743</td>\n",
       "      <td>60.870951</td>\n",
       "      <td>78.567014</td>\n",
       "    </tr>\n",
       "    <tr>\n",
       "      <td>Naftisol</td>\n",
       "      <td>0.596466</td>\n",
       "      <td>186.0</td>\n",
       "      <td>54.331565</td>\n",
       "      <td>8.134708</td>\n",
       "      <td>45.000000</td>\n",
       "      <td>47.285874</td>\n",
       "      <td>52.509285</td>\n",
       "      <td>59.963034</td>\n",
       "      <td>76.668817</td>\n",
       "    </tr>\n",
       "    <tr>\n",
       "      <td>Placebo</td>\n",
       "      <td>0.581331</td>\n",
       "      <td>181.0</td>\n",
       "      <td>54.033581</td>\n",
       "      <td>7.821003</td>\n",
       "      <td>45.000000</td>\n",
       "      <td>47.459053</td>\n",
       "      <td>52.288934</td>\n",
       "      <td>59.916934</td>\n",
       "      <td>73.212939</td>\n",
       "    </tr>\n",
       "    <tr>\n",
       "      <td>Propriva</td>\n",
       "      <td>0.512884</td>\n",
       "      <td>161.0</td>\n",
       "      <td>52.322552</td>\n",
       "      <td>6.507770</td>\n",
       "      <td>45.000000</td>\n",
       "      <td>47.081086</td>\n",
       "      <td>50.854632</td>\n",
       "      <td>56.184664</td>\n",
       "      <td>72.455421</td>\n",
       "    </tr>\n",
       "    <tr>\n",
       "      <td>Ramicane</td>\n",
       "      <td>0.320955</td>\n",
       "      <td>228.0</td>\n",
       "      <td>40.216745</td>\n",
       "      <td>4.846308</td>\n",
       "      <td>22.050126</td>\n",
       "      <td>36.674635</td>\n",
       "      <td>40.673236</td>\n",
       "      <td>45.000000</td>\n",
       "      <td>47.622816</td>\n",
       "    </tr>\n",
       "    <tr>\n",
       "      <td>Stelasyn</td>\n",
       "      <td>0.573111</td>\n",
       "      <td>181.0</td>\n",
       "      <td>54.233149</td>\n",
       "      <td>7.710419</td>\n",
       "      <td>45.000000</td>\n",
       "      <td>48.047139</td>\n",
       "      <td>52.431737</td>\n",
       "      <td>58.719297</td>\n",
       "      <td>75.123690</td>\n",
       "    </tr>\n",
       "    <tr>\n",
       "      <td>Zoniferol</td>\n",
       "      <td>0.516398</td>\n",
       "      <td>182.0</td>\n",
       "      <td>53.236507</td>\n",
       "      <td>6.966589</td>\n",
       "      <td>45.000000</td>\n",
       "      <td>47.337876</td>\n",
       "      <td>51.818479</td>\n",
       "      <td>57.954259</td>\n",
       "      <td>73.324432</td>\n",
       "    </tr>\n",
       "  </tbody>\n",
       "</table>\n",
       "</div>"
      ],
      "text/plain": [
       "              Tumor Volume (mm3)  count       mean       std        min  \\\n",
       "Drug Regimen                                                              \n",
       "Capomulin               0.329346  230.0  40.675741  4.994774  23.343598   \n",
       "Ceftamin                0.469821  178.0  52.591172  6.268188  45.000000   \n",
       "Infubinol               0.492236  178.0  52.884795  6.567243  36.321346   \n",
       "Ketapril                0.603860  188.0  55.235638  8.279709  45.000000   \n",
       "Naftisol                0.596466  186.0  54.331565  8.134708  45.000000   \n",
       "Placebo                 0.581331  181.0  54.033581  7.821003  45.000000   \n",
       "Propriva                0.512884  161.0  52.322552  6.507770  45.000000   \n",
       "Ramicane                0.320955  228.0  40.216745  4.846308  22.050126   \n",
       "Stelasyn                0.573111  181.0  54.233149  7.710419  45.000000   \n",
       "Zoniferol               0.516398  182.0  53.236507  6.966589  45.000000   \n",
       "\n",
       "                    25%        50%        75%        max  \n",
       "Drug Regimen                                              \n",
       "Capomulin     37.685933  41.557809  45.000000  48.158209  \n",
       "Ceftamin      47.208427  51.776157  56.801438  68.923185  \n",
       "Infubinol     47.312353  51.820584  57.314444  72.226731  \n",
       "Ketapril      48.232987  53.698743  60.870951  78.567014  \n",
       "Naftisol      47.285874  52.509285  59.963034  76.668817  \n",
       "Placebo       47.459053  52.288934  59.916934  73.212939  \n",
       "Propriva      47.081086  50.854632  56.184664  72.455421  \n",
       "Ramicane      36.674635  40.673236  45.000000  47.622816  \n",
       "Stelasyn      48.047139  52.431737  58.719297  75.123690  \n",
       "Zoniferol     47.337876  51.818479  57.954259  73.324432  "
      ]
     },
     "execution_count": 32,
     "metadata": {},
     "output_type": "execute_result"
    }
   ],
   "source": [
    "# Generate a summary statistics table of mean, median, variance, standard deviation, and SEM (standard error of the mean)\n",
    "# of the tumor volume for each regimen\n",
    "drug_groups = df.groupby('Drug Regimen')\n",
    "drug_sem = drug_groups['Tumor Volume (mm3)'].sem()\n",
    "descriptive_stats = drug_groups['Tumor Volume (mm3)'].describe()\n",
    "descriptive_stats\n",
    "combined_stats = pd.concat([drug_sem,descriptive_stats],axis=1)\n",
    "combined_stats"
   ]
  },
  {
   "cell_type": "markdown",
   "metadata": {},
   "source": [
    "## Bar plots"
   ]
  },
  {
   "cell_type": "code",
   "execution_count": 116,
   "metadata": {},
   "outputs": [
    {
     "data": {
      "text/plain": [
       "<matplotlib.axes._subplots.AxesSubplot at 0x1fb0dc48e88>"
      ]
     },
     "execution_count": 116,
     "metadata": {},
     "output_type": "execute_result"
    },
    {
     "data": {
      "image/png": "[encoded data removed]",
      "text/plain": [
       "<Figure size 432x288 with 1 Axes>"
      ]
     },
     "metadata": {
      "needs_background": "light"
     },
     "output_type": "display_data"
    }
   ],
   "source": [
    "# Generate a bar plot showing number of data points for each treatment regimen using pandas\n",
    "descriptive_stats['count'].plot.bar()"
   ]
  },
  {
   "cell_type": "code",
   "execution_count": 113,
   "metadata": {},
   "outputs": [
    {
     "data": {
      "text/plain": [
       "Text(0, 0.5, 'Count of Mice')"
      ]
     },
     "execution_count": 113,
     "metadata": {},
     "output_type": "execute_result"
    },
    {
     "data": {
      "image/png": "[encoded data removed]",
      "text/plain": [
       "<Figure size 432x288 with 1 Axes>"
      ]
     },
     "metadata": {
      "needs_background": "light"
     },
     "output_type": "display_data"
    }
   ],
   "source": [
    "# Generate a bar plot showing number of data points for each treatment regimen using pyplot\n",
    "x_axis = np.arange(len(combined_stats))\n",
    "plt.bar(x_axis,descriptive_stats['count'])\n",
    "tick_locations = [value for value in x_axis]\n",
    "plt.xticks(tick_locations,\n",
    "           [\"Capomulin\", \"Ceftamin\", \"Infubinol\", \"Ketapril\", \"Naftisol\",\"Placebo\",\"Propriva\",\"Ramicane\",\"Stelasyn\",\"Zoniferol\"],\n",
    "           rotation='vertical')\n",
    "plt.title('Count of Lab Mice per Drug Regimen')\n",
    "plt.ylabel('Count of Mice')"
   ]
  },
  {
   "cell_type": "markdown",
   "metadata": {},
   "source": [
    "## Pie plots"
   ]
  },
  {
   "cell_type": "code",
   "execution_count": 44,
   "metadata": {},
   "outputs": [
    {
     "data": {
      "text/plain": [
       "<matplotlib.axes._subplots.AxesSubplot at 0x1fb0643c688>"
      ]
     },
     "execution_count": 44,
     "metadata": {},
     "output_type": "execute_result"
    },
    {
     "data": {
      "image/png": "[encoded data removed]",
      "text/plain": [
       "<Figure size 432x288 with 1 Axes>"
      ]
     },
     "metadata": {},
     "output_type": "display_data"
    }
   ],
   "source": [
    "# Generate a pie plot showing the distribution of female versus male mice using pandas\n",
    "df['Sex'].value_counts().plot(kind='pie')"
   ]
  },
  {
   "cell_type": "code",
   "execution_count": 48,
   "metadata": {},
   "outputs": [
    {
     "data": {
      "text/plain": [
       "([<matplotlib.patches.Wedge at 0x1fb0b0cd988>,\n",
       "  <matplotlib.patches.Wedge at 0x1fb0b0d7388>],\n",
       " [Text(-0.02099250347258543, 1.0997996703027118, 'Male'),\n",
       "  Text(0.020992503472585782, -1.0997996703027118, 'Female')])"
      ]
     },
     "execution_count": 48,
     "metadata": {},
     "output_type": "execute_result"
    },
    {
     "data": {
      "image/png": "[encoded data removed]",
      "text/plain": [
       "<Figure size 432x288 with 1 Axes>"
      ]
     },
     "metadata": {},
     "output_type": "display_data"
    }
   ],
   "source": [
    "# Generate a pie plot showing the distribution of female versus male mice using pyplot\n",
    "df['Sex'].value_counts()\n",
    "\n",
    "plt.pie(df['Sex'].value_counts(),labels=['Male','Female'])"
   ]
  },
  {
   "cell_type": "markdown",
   "metadata": {},
   "source": [
    "## Quartiles, outliers and boxplots"
   ]
  },
  {
   "cell_type": "code",
   "execution_count": 97,
   "metadata": {},
   "outputs": [
    {
     "name": "stdout",
     "output_type": "stream",
     "text": [
      "             Tumor Volume (mm3)                                             \\\n",
      "                          count       mean       std        min        25%   \n",
      "Drug Regimen                                                                 \n",
      "Capomulin                  21.0  36.236114  5.608969  23.343598  32.377357   \n",
      "Ceftamin                   13.0  64.132421  3.253497  59.741901  61.433892   \n",
      "Infubinol                   9.0  65.755562  3.433282  60.918767  62.754451   \n",
      "Ramicane                   20.0  34.955595  5.486439  22.050126  30.981175   \n",
      "\n",
      "                                               \n",
      "                    50%        75%        max  \n",
      "Drug Regimen                                   \n",
      "Capomulin     37.311846  40.159220  47.685963  \n",
      "Ceftamin      64.299830  67.527482  68.923185  \n",
      "Infubinol     66.083066  67.685569  72.226731  \n",
      "Ramicane      34.848627  38.508305  45.220869  \n",
      "[20.70456164999999, 51.83201549]\n",
      "[52.29350701999999, 76.66786758]\n",
      "[55.35777559500001, 75.08224443499999]\n",
      "[19.690480101250003, 49.79900043124999]\n"
     ]
    },
    {
     "data": {
      "text/html": [
       "<div>\n",
       "<style scoped>\n",
       "    .dataframe tbody tr th:only-of-type {\n",
       "        vertical-align: middle;\n",
       "    }\n",
       "\n",
       "    .dataframe tbody tr th {\n",
       "        vertical-align: top;\n",
       "    }\n",
       "\n",
       "    .dataframe thead th {\n",
       "        text-align: right;\n",
       "    }\n",
       "</style>\n",
       "<table border=\"1\" class=\"dataframe\">\n",
       "  <thead>\n",
       "    <tr style=\"text-align: right;\">\n",
       "      <th></th>\n",
       "      <th>Drug Regimen</th>\n",
       "      <th>Tumor Volume (mm3)</th>\n",
       "    </tr>\n",
       "  </thead>\n",
       "  <tbody>\n",
       "  </tbody>\n",
       "</table>\n",
       "</div>"
      ],
      "text/plain": [
       "Empty DataFrame\n",
       "Columns: [Drug Regimen, Tumor Volume (mm3)]\n",
       "Index: []"
      ]
     },
     "execution_count": 97,
     "metadata": {},
     "output_type": "execute_result"
    }
   ],
   "source": [
    "# Calculate the final tumor volume of each mouse across four of the most promising treatment regimens. \n",
    "# Calculate the IQR and quantitatively determine if there are any potential outliers. \n",
    "\n",
    "treatments = ['Capomulin','Ramicane','Infubinol','Ceftamin']\n",
    "\n",
    "final_tumor = df.loc[df['Timepoint']==45,['Drug Regimen','Tumor Volume (mm3)']]\n",
    "# final_tumor = final_tumor.reset_index(drop=True)\n",
    "# final_tumor\n",
    "\n",
    "#final_tumor = final_tumor.loc[final_tumor['Drug Regimen']=='Capumulin'|final_tumor['Drug Regimen']=='Ramicane'|final_tumor['Drug Regimen']=='Infubinol'|final_tumor['Drug Regimen']=='Ceftamin',:]\n",
    "### Idk why this isn't working?\n",
    "cap = final_tumor.loc[final_tumor['Drug Regimen']=='Capomulin',:]\n",
    "ram = final_tumor.loc[final_tumor['Drug Regimen']=='Ramicane',:]\n",
    "inf = final_tumor.loc[final_tumor['Drug Regimen']=='Infubinol',:]\n",
    "ceft = final_tumor.loc[final_tumor['Drug Regimen']=='Ceftamin',:]\n",
    "\n",
    "df2 = cap.append([ram,inf,ceft])\n",
    "df2_grouped = df2.groupby('Drug Regimen')\n",
    "df3 = df2_grouped.describe()\n",
    "print(df3)\n",
    "#IQR is 75th percentile - 25th percentile\n",
    "\n",
    "### Calculate IQR Capomulin\n",
    "#25th percentile for Capomulin\n",
    "cap_25 = df3.iloc[0,4]\n",
    "#75th percentile for Capomulin\n",
    "cap_75 = df3.iloc[0,6]\n",
    "cap_iqr = cap_75 - cap_25\n",
    "\n",
    "### Calculate IQR Ramicane\n",
    "#25th percentile\n",
    "ram_25 = df3.iloc[3,4]\n",
    "#75th percentilen\n",
    "ram_75 = df3.iloc[3,6]\n",
    "ram_iqr = ram_75 - ram_25\n",
    "\n",
    "### Calculate IQR Infubinol\n",
    "#25th percentile\n",
    "inf_25 = df3.iloc[2,4]\n",
    "#75th percentile\n",
    "inf_75 = df3.iloc[2,6]\n",
    "inf_iqr = inf_75 - inf_25\n",
    "\n",
    "### Calculate IQR Ceftamin\n",
    "#25th percentile\n",
    "ceft_25 = df3.iloc[1,4]\n",
    "#75th percentile\n",
    "ceft_75 = df3.iloc[1,6]\n",
    "ceft_iqr = ceft_75 - ceft_25\n",
    "\n",
    "## Note: could also do the following for IQR\n",
    "# quartiles = df3['Tumor Volume (mm3)'].quantile([.25,.5,.75])\n",
    "# lowerq = quartiles[0.25]\n",
    "# upperq = quartiles[0.75]\n",
    "# iqr = upperq-lowerq\n",
    "\n",
    "### Outliers?\n",
    "# Define: any data point more than 1.5 interquartile ranges (IQRs) below the first quartile or above the third quartile\n",
    "cap_range = [cap_25-(1.5*cap_iqr),cap_75+(1.5*cap_iqr)]\n",
    "ram_range = [ram_25-(1.5*ram_iqr),ram_75+(1.5*ram_iqr)]\n",
    "inf_range = [inf_25-(1.5*inf_iqr),inf_75+(1.5*inf_iqr)]\n",
    "ceft_range = [ceft_25-(1.5*ceft_iqr),ceft_75+(1.5*ceft_iqr)]\n",
    "\n",
    "print(cap_range)\n",
    "print(ceft_range)\n",
    "print(inf_range)\n",
    "print(ram_range)\n",
    "\n",
    "\n",
    "## The min and max of each drug is contained within the interval for the definition of an outlier. \n",
    "## Therefore, there are no outliers in our data.\n",
    "\n",
    "#Can double check that below\n",
    "cap_outlier_occupancy = cap.loc[(cap['Tumor Volume (mm3)'] < cap_range[0]) | (cap['Tumor Volume (mm3)'] > cap_range[1])]\n",
    "cap_outlier_occupancy\n",
    "ram_outlier_occupancy = ram.loc[(ram['Tumor Volume (mm3)'] < ram_range[0]) | (ram['Tumor Volume (mm3)'] > ram_range[1])]\n",
    "ram_outlier_occupancy\n",
    "inf_outlier_occupancy = inf.loc[(inf['Tumor Volume (mm3)'] < inf_range[0]) | (inf['Tumor Volume (mm3)'] > inf_range[1])]\n",
    "inf_outlier_occupancy\n",
    "ceft_outlier_occupancy = ceft.loc[(ceft['Tumor Volume (mm3)'] < ceft_range[0]) | (ceft['Tumor Volume (mm3)'] > ceft_range[1])]\n",
    "ceft_outlier_occupancy\n"
   ]
  },
  {
   "cell_type": "code",
   "execution_count": 108,
   "metadata": {},
   "outputs": [
    {
     "data": {
      "image/png": "[encoded data removed]",
      "text/plain": [
       "<Figure size 432x288 with 1 Axes>"
      ]
     },
     "metadata": {
      "needs_background": "light"
     },
     "output_type": "display_data"
    }
   ],
   "source": [
    "# Generate a box plot of the final tumor volume of each mouse across four regimens of interest\n",
    "\n",
    "# Some data to plot\n",
    "Capomulin = pd.Series(cap['Tumor Volume (mm3)'])\n",
    "Ceftamin = pd.Series(ceft['Tumor Volume (mm3)'])\n",
    "Infubinol = pd.Series(inf['Tumor Volume (mm3)'])\n",
    "Ramicane = pd.Series(ram['Tumor Volume (mm3)'])\n",
    "\n",
    "fig1, ax1 = plt.subplots()\n",
    "ax1.set_title('Final Tumor Volume (mm3) for Drug Regimen')\n",
    "ax1.set_ylabel('Final Tumor Volume (mm3)')\n",
    "ax1.boxplot([Capomulin,Ceftamin,Infubinol,Ramicane])\n",
    "plt.xticks([1,2,3,4], ['Capomulin','Ceftamin','Infubinol','Ramicane'])\n",
    "plt.show()"
   ]
  },
  {
   "cell_type": "markdown",
   "metadata": {},
   "source": [
    "## Line and scatter plots"
   ]
  },
  {
   "cell_type": "code",
   "execution_count": 117,
   "metadata": {},
   "outputs": [
    {
     "data": {
      "image/png": "[encoded data removed]",
      "text/plain": [
       "<Figure size 432x288 with 1 Axes>"
      ]
     },
     "metadata": {
      "needs_background": "light"
     },
     "output_type": "display_data"
    }
   ],
   "source": [
    "# Generate a line plot of time point versus tumor volume for a mouse treated with Capomulin\n",
    "capomulin = df.loc[df['Drug Regimen']=='Capomulin',['Mouse ID','Timepoint','Tumor Volume (mm3)']]\n",
    "# Take only one mouse\n",
    "s185 = capomulin.loc[df['Mouse ID']=='s185',:]\n",
    "x = s185['Timepoint']\n",
    "y = s185['Tumor Volume (mm3)']\n",
    "plt.plot(x,y)\n",
    "plt.ylabel('Tumor Volume (mm3)')\n",
    "plt.xlabel('Time')\n",
    "plt.title('Mouse s185 Tumor Size over Time')\n",
    "plt.show()"
   ]
  },
  {
   "cell_type": "code",
   "execution_count": 120,
   "metadata": {},
   "outputs": [
    {
     "data": {
      "image/png": "[encoded data removed]",
      "text/plain": [
       "<Figure size 432x288 with 1 Axes>"
      ]
     },
     "metadata": {
      "needs_background": "light"
     },
     "output_type": "display_data"
    }
   ],
   "source": [
    "# Generate a scatter plot of mouse weight versus average tumor volume for the Capomulin regimen\n",
    "scatter_data = df.loc[df['Drug Regimen']=='Capomulin',['Mouse ID','Tumor Volume (mm3)','Weight (g)']]\n",
    "x = scatter_data['Weight (g)']\n",
    "y = scatter_data['Tumor Volume (mm3)']\n",
    "plt.scatter(x,y)\n",
    "plt.title('Weight vs. Tumor Size Scatter Plot (Drug Regimen = Capomulin)')\n",
    "plt.xlabel('Weight (g)')\n",
    "plt.ylabel('Tumor Volume (mm3)')\n",
    "plt.show()\n"
   ]
  },
  {
   "cell_type": "code",
   "execution_count": 127,
   "metadata": {},
   "outputs": [
    {
     "name": "stdout",
     "output_type": "stream",
     "text": [
      "10      37.826265\n",
      "11      37.826265\n",
      "12      37.826265\n",
      "13      37.826265\n",
      "14      37.826265\n",
      "          ...    \n",
      "440     44.553034\n",
      "1452    45.514001\n",
      "1453    45.514001\n",
      "1454    45.514001\n",
      "1455    45.514001\n",
      "Name: Weight (g), Length: 230, dtype: float64\n",
      "y = 0.96x +21.49\n"
     ]
    },
    {
     "data": {
      "image/png": "[encoded data removed]",
      "text/plain": [
       "<Figure size 432x288 with 1 Axes>"
      ]
     },
     "metadata": {
      "needs_background": "light"
     },
     "output_type": "display_data"
    },
    {
     "name": "stdout",
     "output_type": "stream",
     "text": [
      "The correlation coefficient between mouse weight and average tumor volume for mice treated with Capomulin regimen is 0.53.\n"
     ]
    }
   ],
   "source": [
    "# Calculate the correlation coefficient and linear regression model for mouse weight and average tumor volume for the Capomulin regimen\n",
    "scatter_data = df.loc[df['Drug Regimen']=='Capomulin',['Mouse ID','Tumor Volume (mm3)','Weight (g)']]\n",
    "x = scatter_data['Weight (g)']\n",
    "y = scatter_data['Tumor Volume (mm3)']\n",
    "\n",
    "# Perform a linear regression\n",
    "(slope, intercept, rvalue, pvalue, stderr) = st.linregress(x, y)\n",
    "\n",
    "# Get regression values\n",
    "regress_values = x * slope + intercept\n",
    "print(regress_values)\n",
    "\n",
    "line_eq = \"y = \" + str(round(slope,2)) + \"x +\" + str(round(intercept,2))\n",
    "print(line_eq)\n",
    "\n",
    "plt.scatter(x,y)\n",
    "plt.plot(x,regress_values,\"r-\")\n",
    "plt.title('Weight vs. Tumor Size Scatter Plot (Drug Regimen = Capomulin)')\n",
    "plt.xlabel('Weight (g)')\n",
    "plt.ylabel('Tumor Volume (mm3)')\n",
    "plt.show()\n",
    "\n",
    "print(f\"The correlation coefficient between mouse weight and average tumor volume for mice treated with Capomulin regimen is {round(rvalue,2)}.\")"
   ]
  },
  {
   "cell_type": "code",
   "execution_count": null,
   "metadata": {},
   "outputs": [],
   "source": []
  }
 ],
 "metadata": {
  "anaconda-cloud": {},
  "kernelspec": {
   "display_name": "Python 3",
   "language": "python",
   "name": "python3"
  },
  "language_info": {
   "codemirror_mode": {
    "name": "ipython",
    "version": 3
   },
   "file_extension": ".py",
   "mimetype": "text/x-python",
   "name": "python",
   "nbconvert_exporter": "python",
   "pygments_lexer": "ipython3",
   "version": "3.7.4"
  }
 },
 "nbformat": 4,
 "nbformat_minor": 2
}
